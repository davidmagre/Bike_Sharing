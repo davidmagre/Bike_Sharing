{
 "cells": [
  {
   "cell_type": "code",
   "execution_count": 979,
   "metadata": {},
   "outputs": [],
   "source": [
    "#importing libraries\n",
    "import pandas as pd\n",
    "import numpy as np\n",
    "import datetime\n",
    "import warnings\n",
    "\n",
    "warnings.filterwarnings('ignore')\n",
    "warnings.filterwarnings(\"ignore\", message=\"numpy.ufunc size changed\")\n",
    "\n",
    "import matplotlib.pyplot as plt\n",
    "import seaborn as sns\n",
    "%matplotlib inline\n",
    "\n",
    "pd.set_option('display.max_columns', None)"
   ]
  },
  {
   "cell_type": "code",
   "execution_count": 980,
   "metadata": {},
   "outputs": [
    {
     "data": {
      "text/html": [
       "<div>\n",
       "<style scoped>\n",
       "    .dataframe tbody tr th:only-of-type {\n",
       "        vertical-align: middle;\n",
       "    }\n",
       "\n",
       "    .dataframe tbody tr th {\n",
       "        vertical-align: top;\n",
       "    }\n",
       "\n",
       "    .dataframe thead th {\n",
       "        text-align: right;\n",
       "    }\n",
       "</style>\n",
       "<table border=\"1\" class=\"dataframe\">\n",
       "  <thead>\n",
       "    <tr style=\"text-align: right;\">\n",
       "      <th></th>\n",
       "      <th>season</th>\n",
       "      <th>holiday</th>\n",
       "      <th>weekday</th>\n",
       "      <th>workingday</th>\n",
       "      <th>weathersit</th>\n",
       "      <th>temp</th>\n",
       "      <th>atemp</th>\n",
       "      <th>hum</th>\n",
       "      <th>windspeed</th>\n",
       "      <th>casual</th>\n",
       "      <th>registered</th>\n",
       "      <th>cnt</th>\n",
       "      <th>fecha</th>\n",
       "    </tr>\n",
       "  </thead>\n",
       "  <tbody>\n",
       "    <tr>\n",
       "      <th>0</th>\n",
       "      <td>1</td>\n",
       "      <td>0</td>\n",
       "      <td>6</td>\n",
       "      <td>0</td>\n",
       "      <td>1</td>\n",
       "      <td>0.24</td>\n",
       "      <td>0.2879</td>\n",
       "      <td>0.81</td>\n",
       "      <td>0.0</td>\n",
       "      <td>3</td>\n",
       "      <td>13</td>\n",
       "      <td>16</td>\n",
       "      <td>2011-01-01 00:00:00</td>\n",
       "    </tr>\n",
       "    <tr>\n",
       "      <th>1</th>\n",
       "      <td>1</td>\n",
       "      <td>0</td>\n",
       "      <td>6</td>\n",
       "      <td>0</td>\n",
       "      <td>1</td>\n",
       "      <td>0.22</td>\n",
       "      <td>0.2727</td>\n",
       "      <td>0.80</td>\n",
       "      <td>0.0</td>\n",
       "      <td>8</td>\n",
       "      <td>32</td>\n",
       "      <td>40</td>\n",
       "      <td>2011-01-01 01:00:00</td>\n",
       "    </tr>\n",
       "    <tr>\n",
       "      <th>2</th>\n",
       "      <td>1</td>\n",
       "      <td>0</td>\n",
       "      <td>6</td>\n",
       "      <td>0</td>\n",
       "      <td>1</td>\n",
       "      <td>0.22</td>\n",
       "      <td>0.2727</td>\n",
       "      <td>0.80</td>\n",
       "      <td>0.0</td>\n",
       "      <td>5</td>\n",
       "      <td>27</td>\n",
       "      <td>32</td>\n",
       "      <td>2011-01-01 02:00:00</td>\n",
       "    </tr>\n",
       "    <tr>\n",
       "      <th>3</th>\n",
       "      <td>1</td>\n",
       "      <td>0</td>\n",
       "      <td>6</td>\n",
       "      <td>0</td>\n",
       "      <td>1</td>\n",
       "      <td>0.24</td>\n",
       "      <td>0.2879</td>\n",
       "      <td>0.75</td>\n",
       "      <td>0.0</td>\n",
       "      <td>3</td>\n",
       "      <td>10</td>\n",
       "      <td>13</td>\n",
       "      <td>2011-01-01 03:00:00</td>\n",
       "    </tr>\n",
       "    <tr>\n",
       "      <th>4</th>\n",
       "      <td>1</td>\n",
       "      <td>0</td>\n",
       "      <td>6</td>\n",
       "      <td>0</td>\n",
       "      <td>1</td>\n",
       "      <td>0.24</td>\n",
       "      <td>0.2879</td>\n",
       "      <td>0.75</td>\n",
       "      <td>0.0</td>\n",
       "      <td>0</td>\n",
       "      <td>1</td>\n",
       "      <td>1</td>\n",
       "      <td>2011-01-01 04:00:00</td>\n",
       "    </tr>\n",
       "  </tbody>\n",
       "</table>\n",
       "</div>"
      ],
      "text/plain": [
       "   season  holiday  weekday  workingday  weathersit  temp   atemp   hum  \\\n",
       "0       1        0        6           0           1  0.24  0.2879  0.81   \n",
       "1       1        0        6           0           1  0.22  0.2727  0.80   \n",
       "2       1        0        6           0           1  0.22  0.2727  0.80   \n",
       "3       1        0        6           0           1  0.24  0.2879  0.75   \n",
       "4       1        0        6           0           1  0.24  0.2879  0.75   \n",
       "\n",
       "   windspeed  casual  registered  cnt                fecha  \n",
       "0        0.0       3          13   16  2011-01-01 00:00:00  \n",
       "1        0.0       8          32   40  2011-01-01 01:00:00  \n",
       "2        0.0       5          27   32  2011-01-01 02:00:00  \n",
       "3        0.0       3          10   13  2011-01-01 03:00:00  \n",
       "4        0.0       0           1    1  2011-01-01 04:00:00  "
      ]
     },
     "execution_count": 980,
     "metadata": {},
     "output_type": "execute_result"
    }
   ],
   "source": [
    "data = pd.read_csv('filename.csv') # this file is in files_for_lesson_and_activities folder\n",
    "data.head()"
   ]
  },
  {
   "cell_type": "code",
   "execution_count": 981,
   "metadata": {},
   "outputs": [
    {
     "data": {
      "text/plain": [
       "season\n",
       "3    4496\n",
       "2    4409\n",
       "1    4242\n",
       "4    4232\n",
       "Name: count, dtype: int64"
      ]
     },
     "execution_count": 981,
     "metadata": {},
     "output_type": "execute_result"
    }
   ],
   "source": [
    "data[\"season\"].value_counts()"
   ]
  },
  {
   "cell_type": "code",
   "execution_count": 982,
   "metadata": {},
   "outputs": [],
   "source": [
    "data[\"season\"].replace(1, \"Spring\", inplace=True)\n",
    "data[\"season\"].replace(2, \"Summer\", inplace=True)\n",
    "data[\"season\"].replace(3, \"Autum\", inplace=True)\n",
    "data[\"season\"].replace(4, \"Winter\", inplace=True)"
   ]
  },
  {
   "cell_type": "code",
   "execution_count": 983,
   "metadata": {},
   "outputs": [
    {
     "data": {
      "text/plain": [
       "season\n",
       "Autum     4496\n",
       "Summer    4409\n",
       "Spring    4242\n",
       "Winter    4232\n",
       "Name: count, dtype: int64"
      ]
     },
     "execution_count": 983,
     "metadata": {},
     "output_type": "execute_result"
    }
   ],
   "source": [
    "data[\"season\"].value_counts()"
   ]
  },
  {
   "cell_type": "code",
   "execution_count": 984,
   "metadata": {},
   "outputs": [
    {
     "data": {
      "text/plain": [
       "holiday\n",
       "0    16879\n",
       "1      500\n",
       "Name: count, dtype: int64"
      ]
     },
     "execution_count": 984,
     "metadata": {},
     "output_type": "execute_result"
    }
   ],
   "source": [
    "data[\"holiday\"].value_counts()"
   ]
  },
  {
   "cell_type": "code",
   "execution_count": 985,
   "metadata": {},
   "outputs": [],
   "source": [
    "data[\"holiday\"].replace(0, \"No\", inplace=True)\n",
    "data[\"holiday\"].replace(1, \"Yes\", inplace=True)"
   ]
  },
  {
   "cell_type": "code",
   "execution_count": 986,
   "metadata": {},
   "outputs": [
    {
     "data": {
      "text/plain": [
       "holiday\n",
       "No     16879\n",
       "Yes      500\n",
       "Name: count, dtype: int64"
      ]
     },
     "execution_count": 986,
     "metadata": {},
     "output_type": "execute_result"
    }
   ],
   "source": [
    "data[\"holiday\"].value_counts()"
   ]
  },
  {
   "cell_type": "code",
   "execution_count": 987,
   "metadata": {},
   "outputs": [
    {
     "data": {
      "text/plain": [
       "weekday\n",
       "6    2512\n",
       "0    2502\n",
       "5    2487\n",
       "1    2479\n",
       "3    2475\n",
       "4    2471\n",
       "2    2453\n",
       "Name: count, dtype: int64"
      ]
     },
     "execution_count": 987,
     "metadata": {},
     "output_type": "execute_result"
    }
   ],
   "source": [
    "data[\"weekday\"].value_counts()"
   ]
  },
  {
   "cell_type": "code",
   "execution_count": 988,
   "metadata": {},
   "outputs": [],
   "source": [
    "data[\"weekday\"].replace(0, \"Sunday\", inplace=True)\n",
    "data[\"weekday\"].replace(1, \"Monday\", inplace=True)\n",
    "data[\"weekday\"].replace(2, \"Tuesday\", inplace=True)\n",
    "data[\"weekday\"].replace(3, \"Wednesday\", inplace=True)\n",
    "data[\"weekday\"].replace(4, \"Thursday\", inplace=True)\n",
    "data[\"weekday\"].replace(5, \"Friday\", inplace=True)\n",
    "data[\"weekday\"].replace(6, \"Saturday\", inplace=True)"
   ]
  },
  {
   "cell_type": "code",
   "execution_count": 989,
   "metadata": {},
   "outputs": [
    {
     "data": {
      "text/plain": [
       "weekday\n",
       "Saturday     2512\n",
       "Sunday       2502\n",
       "Friday       2487\n",
       "Monday       2479\n",
       "Wednesday    2475\n",
       "Thursday     2471\n",
       "Tuesday      2453\n",
       "Name: count, dtype: int64"
      ]
     },
     "execution_count": 989,
     "metadata": {},
     "output_type": "execute_result"
    }
   ],
   "source": [
    "data[\"weekday\"].value_counts()"
   ]
  },
  {
   "cell_type": "code",
   "execution_count": 990,
   "metadata": {},
   "outputs": [
    {
     "data": {
      "text/plain": [
       "weathersit\n",
       "1    11413\n",
       "2     4544\n",
       "3     1419\n",
       "4        3\n",
       "Name: count, dtype: int64"
      ]
     },
     "execution_count": 990,
     "metadata": {},
     "output_type": "execute_result"
    }
   ],
   "source": [
    "data[\"weathersit\"].value_counts()"
   ]
  },
  {
   "cell_type": "code",
   "execution_count": 991,
   "metadata": {},
   "outputs": [],
   "source": [
    "data[\"weathersit\"].replace(1, \"Very Good\", inplace=True)\n",
    "data[\"weathersit\"].replace(2, \"Good\", inplace=True)\n",
    "data[\"weathersit\"].replace(3, \"Bad\", inplace=True)\n",
    "data[\"weathersit\"].replace(4, \"Very Bad\", inplace=True)"
   ]
  },
  {
   "cell_type": "code",
   "execution_count": 992,
   "metadata": {},
   "outputs": [
    {
     "data": {
      "text/plain": [
       "weathersit\n",
       "Very Good    11413\n",
       "Good          4544\n",
       "Bad           1419\n",
       "Very Bad         3\n",
       "Name: count, dtype: int64"
      ]
     },
     "execution_count": 992,
     "metadata": {},
     "output_type": "execute_result"
    }
   ],
   "source": [
    "data[\"weathersit\"].value_counts()"
   ]
  },
  {
   "cell_type": "code",
   "execution_count": 993,
   "metadata": {},
   "outputs": [
    {
     "data": {
      "text/plain": [
       "workingday\n",
       "1    11865\n",
       "0     5514\n",
       "Name: count, dtype: int64"
      ]
     },
     "execution_count": 993,
     "metadata": {},
     "output_type": "execute_result"
    }
   ],
   "source": [
    "data[\"workingday\"].value_counts()"
   ]
  },
  {
   "cell_type": "code",
   "execution_count": 994,
   "metadata": {},
   "outputs": [],
   "source": [
    "data[\"workingday\"].replace(1, \"Yes\", inplace=True)\n",
    "data[\"workingday\"].replace(0, \"No\", inplace=True)"
   ]
  },
  {
   "cell_type": "code",
   "execution_count": 995,
   "metadata": {},
   "outputs": [
    {
     "data": {
      "text/plain": [
       "workingday\n",
       "Yes    11865\n",
       "No      5514\n",
       "Name: count, dtype: int64"
      ]
     },
     "execution_count": 995,
     "metadata": {},
     "output_type": "execute_result"
    }
   ],
   "source": [
    "data[\"workingday\"].value_counts()"
   ]
  },
  {
   "cell_type": "code",
   "execution_count": 996,
   "metadata": {},
   "outputs": [
    {
     "data": {
      "text/html": [
       "<div>\n",
       "<style scoped>\n",
       "    .dataframe tbody tr th:only-of-type {\n",
       "        vertical-align: middle;\n",
       "    }\n",
       "\n",
       "    .dataframe tbody tr th {\n",
       "        vertical-align: top;\n",
       "    }\n",
       "\n",
       "    .dataframe thead th {\n",
       "        text-align: right;\n",
       "    }\n",
       "</style>\n",
       "<table border=\"1\" class=\"dataframe\">\n",
       "  <thead>\n",
       "    <tr style=\"text-align: right;\">\n",
       "      <th></th>\n",
       "      <th>season</th>\n",
       "      <th>holiday</th>\n",
       "      <th>weekday</th>\n",
       "      <th>workingday</th>\n",
       "      <th>weathersit</th>\n",
       "      <th>temp</th>\n",
       "      <th>atemp</th>\n",
       "      <th>hum</th>\n",
       "      <th>windspeed</th>\n",
       "      <th>casual</th>\n",
       "      <th>registered</th>\n",
       "      <th>cnt</th>\n",
       "      <th>fecha</th>\n",
       "    </tr>\n",
       "  </thead>\n",
       "  <tbody>\n",
       "    <tr>\n",
       "      <th>0</th>\n",
       "      <td>Spring</td>\n",
       "      <td>No</td>\n",
       "      <td>Saturday</td>\n",
       "      <td>No</td>\n",
       "      <td>Very Good</td>\n",
       "      <td>0.24</td>\n",
       "      <td>0.2879</td>\n",
       "      <td>0.81</td>\n",
       "      <td>0.0</td>\n",
       "      <td>3</td>\n",
       "      <td>13</td>\n",
       "      <td>16</td>\n",
       "      <td>2011-01-01 00:00:00</td>\n",
       "    </tr>\n",
       "    <tr>\n",
       "      <th>1</th>\n",
       "      <td>Spring</td>\n",
       "      <td>No</td>\n",
       "      <td>Saturday</td>\n",
       "      <td>No</td>\n",
       "      <td>Very Good</td>\n",
       "      <td>0.22</td>\n",
       "      <td>0.2727</td>\n",
       "      <td>0.80</td>\n",
       "      <td>0.0</td>\n",
       "      <td>8</td>\n",
       "      <td>32</td>\n",
       "      <td>40</td>\n",
       "      <td>2011-01-01 01:00:00</td>\n",
       "    </tr>\n",
       "    <tr>\n",
       "      <th>2</th>\n",
       "      <td>Spring</td>\n",
       "      <td>No</td>\n",
       "      <td>Saturday</td>\n",
       "      <td>No</td>\n",
       "      <td>Very Good</td>\n",
       "      <td>0.22</td>\n",
       "      <td>0.2727</td>\n",
       "      <td>0.80</td>\n",
       "      <td>0.0</td>\n",
       "      <td>5</td>\n",
       "      <td>27</td>\n",
       "      <td>32</td>\n",
       "      <td>2011-01-01 02:00:00</td>\n",
       "    </tr>\n",
       "    <tr>\n",
       "      <th>3</th>\n",
       "      <td>Spring</td>\n",
       "      <td>No</td>\n",
       "      <td>Saturday</td>\n",
       "      <td>No</td>\n",
       "      <td>Very Good</td>\n",
       "      <td>0.24</td>\n",
       "      <td>0.2879</td>\n",
       "      <td>0.75</td>\n",
       "      <td>0.0</td>\n",
       "      <td>3</td>\n",
       "      <td>10</td>\n",
       "      <td>13</td>\n",
       "      <td>2011-01-01 03:00:00</td>\n",
       "    </tr>\n",
       "    <tr>\n",
       "      <th>4</th>\n",
       "      <td>Spring</td>\n",
       "      <td>No</td>\n",
       "      <td>Saturday</td>\n",
       "      <td>No</td>\n",
       "      <td>Very Good</td>\n",
       "      <td>0.24</td>\n",
       "      <td>0.2879</td>\n",
       "      <td>0.75</td>\n",
       "      <td>0.0</td>\n",
       "      <td>0</td>\n",
       "      <td>1</td>\n",
       "      <td>1</td>\n",
       "      <td>2011-01-01 04:00:00</td>\n",
       "    </tr>\n",
       "  </tbody>\n",
       "</table>\n",
       "</div>"
      ],
      "text/plain": [
       "   season holiday   weekday workingday weathersit  temp   atemp   hum  \\\n",
       "0  Spring      No  Saturday         No  Very Good  0.24  0.2879  0.81   \n",
       "1  Spring      No  Saturday         No  Very Good  0.22  0.2727  0.80   \n",
       "2  Spring      No  Saturday         No  Very Good  0.22  0.2727  0.80   \n",
       "3  Spring      No  Saturday         No  Very Good  0.24  0.2879  0.75   \n",
       "4  Spring      No  Saturday         No  Very Good  0.24  0.2879  0.75   \n",
       "\n",
       "   windspeed  casual  registered  cnt                fecha  \n",
       "0        0.0       3          13   16  2011-01-01 00:00:00  \n",
       "1        0.0       8          32   40  2011-01-01 01:00:00  \n",
       "2        0.0       5          27   32  2011-01-01 02:00:00  \n",
       "3        0.0       3          10   13  2011-01-01 03:00:00  \n",
       "4        0.0       0           1    1  2011-01-01 04:00:00  "
      ]
     },
     "execution_count": 996,
     "metadata": {},
     "output_type": "execute_result"
    }
   ],
   "source": [
    "data.head()"
   ]
  },
  {
   "cell_type": "code",
   "execution_count": 997,
   "metadata": {},
   "outputs": [],
   "source": [
    "#Testeos de chi-squared entre las variables categoricas\n",
    "#Variables a testear: season, holiday, weekday, workingday y weathersit"
   ]
  },
  {
   "cell_type": "code",
   "execution_count": 998,
   "metadata": {},
   "outputs": [
    {
     "data": {
      "text/html": [
       "<div>\n",
       "<style scoped>\n",
       "    .dataframe tbody tr th:only-of-type {\n",
       "        vertical-align: middle;\n",
       "    }\n",
       "\n",
       "    .dataframe tbody tr th {\n",
       "        vertical-align: top;\n",
       "    }\n",
       "\n",
       "    .dataframe thead th {\n",
       "        text-align: right;\n",
       "    }\n",
       "</style>\n",
       "<table border=\"1\" class=\"dataframe\">\n",
       "  <thead>\n",
       "    <tr style=\"text-align: right;\">\n",
       "      <th>workingday</th>\n",
       "      <th>No</th>\n",
       "      <th>Yes</th>\n",
       "    </tr>\n",
       "    <tr>\n",
       "      <th>weathersit</th>\n",
       "      <th></th>\n",
       "      <th></th>\n",
       "    </tr>\n",
       "  </thead>\n",
       "  <tbody>\n",
       "    <tr>\n",
       "      <th>Bad</th>\n",
       "      <td>379</td>\n",
       "      <td>1040</td>\n",
       "    </tr>\n",
       "    <tr>\n",
       "      <th>Good</th>\n",
       "      <td>1353</td>\n",
       "      <td>3191</td>\n",
       "    </tr>\n",
       "    <tr>\n",
       "      <th>Very Bad</th>\n",
       "      <td>1</td>\n",
       "      <td>2</td>\n",
       "    </tr>\n",
       "    <tr>\n",
       "      <th>Very Good</th>\n",
       "      <td>3781</td>\n",
       "      <td>7632</td>\n",
       "    </tr>\n",
       "  </tbody>\n",
       "</table>\n",
       "</div>"
      ],
      "text/plain": [
       "workingday    No   Yes\n",
       "weathersit            \n",
       "Bad          379  1040\n",
       "Good        1353  3191\n",
       "Very Bad       1     2\n",
       "Very Good   3781  7632"
      ]
     },
     "execution_count": 998,
     "metadata": {},
     "output_type": "execute_result"
    }
   ],
   "source": [
    "data_crosstab = pd.crosstab(data['weathersit'], data['workingday'], margins = False)\n",
    "data_crosstab"
   ]
  },
  {
   "cell_type": "code",
   "execution_count": 999,
   "metadata": {},
   "outputs": [
    {
     "data": {
      "text/plain": [
       "Chi2ContingencyResult(statistic=34.84267124045008, pvalue=1.3151438111663914e-07, dof=3, expected_freq=array([[4.50219575e+02, 9.68780425e+02],\n",
       "       [1.44171794e+03, 3.10228206e+03],\n",
       "       [9.51838426e-01, 2.04816157e+00],\n",
       "       [3.62111065e+03, 7.79188935e+03]]))"
      ]
     },
     "execution_count": 999,
     "metadata": {},
     "output_type": "execute_result"
    }
   ],
   "source": [
    "from scipy.stats import chi2_contingency\n",
    "\n",
    "chi2_contingency(data_crosstab, correction=False)\n",
    "#Dado este resultado, podemos concluir que existe una relación significativa entre si es un día laborable y las condiciones climáticas. \n",
    "#Es decir, las condiciones climáticas varían de manera significativa dependiendo de si es un día laborable o no. \n",
    "#Esto podría tener implicaciones importantes en términos de planificación y toma de decisiones, por ejemplo, \n",
    "#en la movilidad de las personas, el tráfico"
   ]
  },
  {
   "cell_type": "code",
   "execution_count": 1000,
   "metadata": {},
   "outputs": [
    {
     "data": {
      "text/html": [
       "<div>\n",
       "<style scoped>\n",
       "    .dataframe tbody tr th:only-of-type {\n",
       "        vertical-align: middle;\n",
       "    }\n",
       "\n",
       "    .dataframe tbody tr th {\n",
       "        vertical-align: top;\n",
       "    }\n",
       "\n",
       "    .dataframe thead th {\n",
       "        text-align: right;\n",
       "    }\n",
       "</style>\n",
       "<table border=\"1\" class=\"dataframe\">\n",
       "  <thead>\n",
       "    <tr style=\"text-align: right;\">\n",
       "      <th>season</th>\n",
       "      <th>Autum</th>\n",
       "      <th>Spring</th>\n",
       "      <th>Summer</th>\n",
       "      <th>Winter</th>\n",
       "    </tr>\n",
       "    <tr>\n",
       "      <th>weathersit</th>\n",
       "      <th></th>\n",
       "      <th></th>\n",
       "      <th></th>\n",
       "      <th></th>\n",
       "    </tr>\n",
       "  </thead>\n",
       "  <tbody>\n",
       "    <tr>\n",
       "      <th>Bad</th>\n",
       "      <td>269</td>\n",
       "      <td>369</td>\n",
       "      <td>406</td>\n",
       "      <td>375</td>\n",
       "    </tr>\n",
       "    <tr>\n",
       "      <th>Good</th>\n",
       "      <td>947</td>\n",
       "      <td>1205</td>\n",
       "      <td>1144</td>\n",
       "      <td>1248</td>\n",
       "    </tr>\n",
       "    <tr>\n",
       "      <th>Very Bad</th>\n",
       "      <td>0</td>\n",
       "      <td>3</td>\n",
       "      <td>0</td>\n",
       "      <td>0</td>\n",
       "    </tr>\n",
       "    <tr>\n",
       "      <th>Very Good</th>\n",
       "      <td>3280</td>\n",
       "      <td>2665</td>\n",
       "      <td>2859</td>\n",
       "      <td>2609</td>\n",
       "    </tr>\n",
       "  </tbody>\n",
       "</table>\n",
       "</div>"
      ],
      "text/plain": [
       "season      Autum  Spring  Summer  Winter\n",
       "weathersit                               \n",
       "Bad           269     369     406     375\n",
       "Good          947    1205    1144    1248\n",
       "Very Bad        0       3       0       0\n",
       "Very Good    3280    2665    2859    2609"
      ]
     },
     "execution_count": 1000,
     "metadata": {},
     "output_type": "execute_result"
    }
   ],
   "source": [
    "data_crosstab = pd.crosstab(data['weathersit'], data['season'], margins = False)\n",
    "data_crosstab"
   ]
  },
  {
   "cell_type": "code",
   "execution_count": 1001,
   "metadata": {},
   "outputs": [
    {
     "data": {
      "text/plain": [
       "Chi2ContingencyResult(statistic=168.67912163587522, pvalue=1.1626263980984891e-31, dof=9, expected_freq=array([[3.67099603e+02, 3.46360435e+02, 3.59996030e+02, 3.45543932e+02],\n",
       "       [1.17554658e+03, 1.10913447e+03, 1.15279913e+03, 1.10651982e+03],\n",
       "       [7.76109097e-01, 7.32263076e-01, 7.61090972e-01, 7.30536855e-01],\n",
       "       [2.95257771e+03, 2.78577283e+03, 2.89544375e+03, 2.77920571e+03]]))"
      ]
     },
     "execution_count": 1001,
     "metadata": {},
     "output_type": "execute_result"
    }
   ],
   "source": [
    "from scipy.stats import chi2_contingency\n",
    "\n",
    "chi2_contingency(data_crosstab, correction=False)\n",
    "#Dado este resultado, podemos concluir que existe una relación significativa entre la temporada y las condiciones climáticas. \n",
    "#Es decir, las condiciones climáticas varían significativamente según la temporada del año. \n",
    "#Esto es coherente con las expectativas comunes, ya que las estaciones del año están asociadas con diferentes patrones climáticos."
   ]
  },
  {
   "cell_type": "code",
   "execution_count": 1002,
   "metadata": {},
   "outputs": [
    {
     "name": "stdout",
     "output_type": "stream",
     "text": [
      "<class 'pandas.core.frame.DataFrame'>\n",
      "RangeIndex: 17379 entries, 0 to 17378\n",
      "Data columns (total 13 columns):\n",
      " #   Column      Non-Null Count  Dtype  \n",
      "---  ------      --------------  -----  \n",
      " 0   season      17379 non-null  object \n",
      " 1   holiday     17379 non-null  object \n",
      " 2   weekday     17379 non-null  object \n",
      " 3   workingday  17379 non-null  object \n",
      " 4   weathersit  17379 non-null  object \n",
      " 5   temp        17379 non-null  float64\n",
      " 6   atemp       17379 non-null  float64\n",
      " 7   hum         17379 non-null  float64\n",
      " 8   windspeed   17379 non-null  float64\n",
      " 9   casual      17379 non-null  int64  \n",
      " 10  registered  17379 non-null  int64  \n",
      " 11  cnt         17379 non-null  int64  \n",
      " 12  fecha       17379 non-null  object \n",
      "dtypes: float64(4), int64(3), object(6)\n",
      "memory usage: 1.7+ MB\n"
     ]
    }
   ],
   "source": [
    "data.info()"
   ]
  },
  {
   "cell_type": "code",
   "execution_count": 1003,
   "metadata": {},
   "outputs": [],
   "source": [
    "#no nulls"
   ]
  },
  {
   "cell_type": "code",
   "execution_count": 1004,
   "metadata": {},
   "outputs": [
    {
     "data": {
      "text/html": [
       "<div>\n",
       "<style scoped>\n",
       "    .dataframe tbody tr th:only-of-type {\n",
       "        vertical-align: middle;\n",
       "    }\n",
       "\n",
       "    .dataframe tbody tr th {\n",
       "        vertical-align: top;\n",
       "    }\n",
       "\n",
       "    .dataframe thead th {\n",
       "        text-align: right;\n",
       "    }\n",
       "</style>\n",
       "<table border=\"1\" class=\"dataframe\">\n",
       "  <thead>\n",
       "    <tr style=\"text-align: right;\">\n",
       "      <th></th>\n",
       "      <th>temp</th>\n",
       "      <th>atemp</th>\n",
       "      <th>hum</th>\n",
       "      <th>windspeed</th>\n",
       "      <th>casual</th>\n",
       "      <th>registered</th>\n",
       "      <th>cnt</th>\n",
       "    </tr>\n",
       "  </thead>\n",
       "  <tbody>\n",
       "    <tr>\n",
       "      <th>0</th>\n",
       "      <td>0.24</td>\n",
       "      <td>0.2879</td>\n",
       "      <td>0.81</td>\n",
       "      <td>0.0</td>\n",
       "      <td>3</td>\n",
       "      <td>13</td>\n",
       "      <td>16</td>\n",
       "    </tr>\n",
       "    <tr>\n",
       "      <th>1</th>\n",
       "      <td>0.22</td>\n",
       "      <td>0.2727</td>\n",
       "      <td>0.80</td>\n",
       "      <td>0.0</td>\n",
       "      <td>8</td>\n",
       "      <td>32</td>\n",
       "      <td>40</td>\n",
       "    </tr>\n",
       "    <tr>\n",
       "      <th>2</th>\n",
       "      <td>0.22</td>\n",
       "      <td>0.2727</td>\n",
       "      <td>0.80</td>\n",
       "      <td>0.0</td>\n",
       "      <td>5</td>\n",
       "      <td>27</td>\n",
       "      <td>32</td>\n",
       "    </tr>\n",
       "    <tr>\n",
       "      <th>3</th>\n",
       "      <td>0.24</td>\n",
       "      <td>0.2879</td>\n",
       "      <td>0.75</td>\n",
       "      <td>0.0</td>\n",
       "      <td>3</td>\n",
       "      <td>10</td>\n",
       "      <td>13</td>\n",
       "    </tr>\n",
       "    <tr>\n",
       "      <th>4</th>\n",
       "      <td>0.24</td>\n",
       "      <td>0.2879</td>\n",
       "      <td>0.75</td>\n",
       "      <td>0.0</td>\n",
       "      <td>0</td>\n",
       "      <td>1</td>\n",
       "      <td>1</td>\n",
       "    </tr>\n",
       "  </tbody>\n",
       "</table>\n",
       "</div>"
      ],
      "text/plain": [
       "   temp   atemp   hum  windspeed  casual  registered  cnt\n",
       "0  0.24  0.2879  0.81        0.0       3          13   16\n",
       "1  0.22  0.2727  0.80        0.0       8          32   40\n",
       "2  0.22  0.2727  0.80        0.0       5          27   32\n",
       "3  0.24  0.2879  0.75        0.0       3          10   13\n",
       "4  0.24  0.2879  0.75        0.0       0           1    1"
      ]
     },
     "execution_count": 1004,
     "metadata": {},
     "output_type": "execute_result"
    }
   ],
   "source": [
    "numericals = data.select_dtypes(np.number)\n",
    "numericals.head()"
   ]
  },
  {
   "cell_type": "code",
   "execution_count": 1005,
   "metadata": {},
   "outputs": [
    {
     "data": {
      "image/png": "[encoded data removed]",
      "text/plain": [
       "<Figure size 640x480 with 1 Axes>"
      ]
     },
     "metadata": {},
     "output_type": "display_data"
    }
   ],
   "source": [
    "data['temp'].hist(bins=20)\n",
    "plt.show()"
   ]
  },
  {
   "cell_type": "code",
   "execution_count": 1006,
   "metadata": {},
   "outputs": [
    {
     "data": {
      "image/png": "[encoded data removed]",
      "text/plain": [
       "<Figure size 640x480 with 1 Axes>"
      ]
     },
     "metadata": {},
     "output_type": "display_data"
    }
   ],
   "source": [
    "sns.boxplot(y=data['temp'])\n",
    "plt.show()"
   ]
  },
  {
   "cell_type": "code",
   "execution_count": 1007,
   "metadata": {},
   "outputs": [],
   "source": [
    "#no vemos que hayan outliers en la variable de temperatura ya que parece una normal simetrica."
   ]
  },
  {
   "cell_type": "code",
   "execution_count": 1008,
   "metadata": {},
   "outputs": [
    {
     "data": {
      "image/png": "[encoded data removed]",
      "text/plain": [
       "<Figure size 640x480 with 1 Axes>"
      ]
     },
     "metadata": {},
     "output_type": "display_data"
    }
   ],
   "source": [
    "data['atemp'].hist(bins=20)\n",
    "plt.show()"
   ]
  },
  {
   "cell_type": "code",
   "execution_count": 1009,
   "metadata": {},
   "outputs": [
    {
     "data": {
      "image/png": "[encoded data removed]",
      "text/plain": [
       "<Figure size 640x480 with 1 Axes>"
      ]
     },
     "metadata": {},
     "output_type": "display_data"
    }
   ],
   "source": [
    "sns.boxplot(y=data['temp'])\n",
    "plt.show()"
   ]
  },
  {
   "cell_type": "code",
   "execution_count": 1010,
   "metadata": {},
   "outputs": [],
   "source": [
    "#no vemos que hayan outliers en la variable de temperatura percibida ya que parece una normal simetrica."
   ]
  },
  {
   "cell_type": "code",
   "execution_count": 1011,
   "metadata": {},
   "outputs": [
    {
     "data": {
      "image/png": "[encoded data removed]",
      "text/plain": [
       "<Figure size 640x480 with 1 Axes>"
      ]
     },
     "metadata": {},
     "output_type": "display_data"
    }
   ],
   "source": [
    "data['hum'].hist(bins=20)\n",
    "plt.show()"
   ]
  },
  {
   "cell_type": "code",
   "execution_count": 1012,
   "metadata": {},
   "outputs": [
    {
     "data": {
      "image/png": "[encoded data removed]",
      "text/plain": [
       "<Figure size 640x480 with 1 Axes>"
      ]
     },
     "metadata": {},
     "output_type": "display_data"
    }
   ],
   "source": [
    "sns.boxplot(y=data['hum'])\n",
    "plt.show()"
   ]
  },
  {
   "cell_type": "code",
   "execution_count": 1013,
   "metadata": {},
   "outputs": [],
   "source": [
    "#en hum si que vemos que tiene outliers de skewness negativa"
   ]
  },
  {
   "cell_type": "code",
   "execution_count": 1014,
   "metadata": {},
   "outputs": [
    {
     "data": {
      "image/png": "[encoded data removed]",
      "text/plain": [
       "<Figure size 640x480 with 1 Axes>"
      ]
     },
     "metadata": {},
     "output_type": "display_data"
    },
    {
     "data": {
      "image/png": "[encoded data removed]",
      "text/plain": [
       "<Figure size 640x480 with 1 Axes>"
      ]
     },
     "metadata": {},
     "output_type": "display_data"
    }
   ],
   "source": [
    "iqr=np.percentile(data['hum'],75)-np.percentile(data['hum'],25)\n",
    "#límites estándares son iqr*1,5\n",
    "lower_limit= np.percentile(data['hum'],25)-1.5*iqr\n",
    "data2=data[(data['hum']>lower_limit)]\n",
    "sns.distplot(data['hum'])\n",
    "plt.show()\n",
    "sns.distplot(data2['hum'])\n",
    "plt.show()"
   ]
  },
  {
   "cell_type": "code",
   "execution_count": 1015,
   "metadata": {},
   "outputs": [],
   "source": [
    "#data sin quitar outliers\n",
    "#data2 quitando outliers"
   ]
  },
  {
   "cell_type": "code",
   "execution_count": 1016,
   "metadata": {},
   "outputs": [
    {
     "data": {
      "image/png": "[encoded data removed]",
      "text/plain": [
       "<Figure size 640x480 with 1 Axes>"
      ]
     },
     "metadata": {},
     "output_type": "display_data"
    },
    {
     "data": {
      "image/png": "[encoded data removed]",
      "text/plain": [
       "<Figure size 640x480 with 1 Axes>"
      ]
     },
     "metadata": {},
     "output_type": "display_data"
    }
   ],
   "source": [
    "sns.boxplot(y=data['hum'])\n",
    "plt.show()\n",
    "sns.boxplot(y=data2['hum'])\n",
    "plt.show()"
   ]
  },
  {
   "cell_type": "code",
   "execution_count": 1017,
   "metadata": {},
   "outputs": [],
   "source": [
    "#normalizamos la variable hum"
   ]
  },
  {
   "cell_type": "code",
   "execution_count": 1018,
   "metadata": {},
   "outputs": [
    {
     "data": {
      "image/png": "[encoded data removed]",
      "text/plain": [
       "<Figure size 640x480 with 1 Axes>"
      ]
     },
     "metadata": {},
     "output_type": "display_data"
    }
   ],
   "source": [
    "data['windspeed'].hist(bins=20)\n",
    "plt.show()"
   ]
  },
  {
   "cell_type": "code",
   "execution_count": 1019,
   "metadata": {},
   "outputs": [
    {
     "data": {
      "image/png": "[encoded data removed]",
      "text/plain": [
       "<Figure size 640x480 with 1 Axes>"
      ]
     },
     "metadata": {},
     "output_type": "display_data"
    }
   ],
   "source": [
    "sns.boxplot(y=data['windspeed'])\n",
    "plt.show()"
   ]
  },
  {
   "cell_type": "code",
   "execution_count": 1020,
   "metadata": {},
   "outputs": [],
   "source": [
    "#en este caso la variable windspeed tiene una skewness positiva"
   ]
  },
  {
   "cell_type": "code",
   "execution_count": 1021,
   "metadata": {},
   "outputs": [
    {
     "data": {
      "image/png": "[encoded data removed]",
      "text/plain": [
       "<Figure size 640x480 with 1 Axes>"
      ]
     },
     "metadata": {},
     "output_type": "display_data"
    },
    {
     "data": {
      "image/png": "[encoded data removed]",
      "text/plain": [
       "<Figure size 640x480 with 1 Axes>"
      ]
     },
     "metadata": {},
     "output_type": "display_data"
    }
   ],
   "source": [
    "iqr=np.percentile(data['windspeed'],75)-np.percentile(data['windspeed'],25)\n",
    "#límites estándares son iqr*1,5\n",
    "upper_limit= np.percentile(data['windspeed'],75)+1.5*iqr\n",
    "data2=data[(data['windspeed']<upper_limit)]\n",
    "sns.distplot(data['windspeed'])\n",
    "plt.show()\n",
    "sns.distplot(data2['windspeed'])\n",
    "plt.show()"
   ]
  },
  {
   "cell_type": "code",
   "execution_count": 1022,
   "metadata": {},
   "outputs": [],
   "source": [
    "#data sin quitar outliers\n",
    "#data2 quitando outliers"
   ]
  },
  {
   "cell_type": "code",
   "execution_count": 1023,
   "metadata": {},
   "outputs": [
    {
     "data": {
      "image/png": "[encoded data removed]",
      "text/plain": [
       "<Figure size 640x480 with 1 Axes>"
      ]
     },
     "metadata": {},
     "output_type": "display_data"
    },
    {
     "data": {
      "image/png": "[encoded data removed]",
      "text/plain": [
       "<Figure size 640x480 with 1 Axes>"
      ]
     },
     "metadata": {},
     "output_type": "display_data"
    }
   ],
   "source": [
    "sns.boxplot(y=data['windspeed'])\n",
    "plt.show()\n",
    "sns.boxplot(y=data2['windspeed'])\n",
    "plt.show()"
   ]
  },
  {
   "cell_type": "code",
   "execution_count": 1024,
   "metadata": {},
   "outputs": [],
   "source": [
    "#hemos normalizado la variable windspeed y le hemos quitado los outliers"
   ]
  },
  {
   "cell_type": "code",
   "execution_count": 1025,
   "metadata": {},
   "outputs": [],
   "source": [
    "#en cnt, casual y registered mantenemos los outliers para ver como queda"
   ]
  },
  {
   "cell_type": "code",
   "execution_count": 1026,
   "metadata": {},
   "outputs": [
    {
     "data": {
      "image/png": "[encoded data removed]",
      "text/plain": [
       "<Figure size 1000x800 with 2 Axes>"
      ]
     },
     "metadata": {},
     "output_type": "display_data"
    }
   ],
   "source": [
    "data_corr = data.select_dtypes(np.number)\n",
    "corr_matrix=data_corr.corr(method='pearson')\n",
    "fig, ax = plt.subplots(figsize=(10, 8))\n",
    "ax = sns.heatmap(corr_matrix, annot=True)\n",
    "plt.show()"
   ]
  },
  {
   "cell_type": "code",
   "execution_count": 1027,
   "metadata": {},
   "outputs": [],
   "source": [
    "#MENOS DE 0,75 DE R2 LA DEJAMOS\n",
    "#LAS CORRELACIONES MAS ALTAS DE 0.8 LAS TESTEAMOS"
   ]
  },
  {
   "cell_type": "code",
   "execution_count": 1028,
   "metadata": {},
   "outputs": [
    {
     "data": {
      "text/plain": [
       "0.9754962542351553"
      ]
     },
     "execution_count": 1028,
     "metadata": {},
     "output_type": "execute_result"
    }
   ],
   "source": [
    "from sklearn.linear_model import LinearRegression\n",
    "import seaborn as sns\n",
    "\n",
    "\n",
    "model = LinearRegression().fit(data_corr[['temp']], data_corr[['atemp']])\n",
    "model.score(data_corr[['temp']], data_corr[['atemp']])\n",
    "\n",
    "#temp y atemp tienen una correlacion muy alta deberemos eliminar una"
   ]
  },
  {
   "cell_type": "code",
   "execution_count": 1029,
   "metadata": {},
   "outputs": [
    {
     "data": {
      "text/plain": [
       "0.9450770435199909"
      ]
     },
     "execution_count": 1029,
     "metadata": {},
     "output_type": "execute_result"
    }
   ],
   "source": [
    "model = LinearRegression().fit(data_corr[['registered']], data_corr[['cnt']])\n",
    "model.score(data_corr[['registered']], data_corr[['cnt']])\n",
    "\n",
    "#registered y cnt tienen una correlacion muy alta deberemos eliminar una"
   ]
  },
  {
   "cell_type": "code",
   "execution_count": 1030,
   "metadata": {},
   "outputs": [],
   "source": [
    "data_alpha = data.drop([\"atemp\", \"registered\"], axis=1)"
   ]
  },
  {
   "cell_type": "code",
   "execution_count": 1031,
   "metadata": {},
   "outputs": [
    {
     "data": {
      "text/html": [
       "<div>\n",
       "<style scoped>\n",
       "    .dataframe tbody tr th:only-of-type {\n",
       "        vertical-align: middle;\n",
       "    }\n",
       "\n",
       "    .dataframe tbody tr th {\n",
       "        vertical-align: top;\n",
       "    }\n",
       "\n",
       "    .dataframe thead th {\n",
       "        text-align: right;\n",
       "    }\n",
       "</style>\n",
       "<table border=\"1\" class=\"dataframe\">\n",
       "  <thead>\n",
       "    <tr style=\"text-align: right;\">\n",
       "      <th></th>\n",
       "      <th>season</th>\n",
       "      <th>holiday</th>\n",
       "      <th>weekday</th>\n",
       "      <th>workingday</th>\n",
       "      <th>weathersit</th>\n",
       "      <th>temp</th>\n",
       "      <th>hum</th>\n",
       "      <th>windspeed</th>\n",
       "      <th>casual</th>\n",
       "      <th>cnt</th>\n",
       "      <th>fecha</th>\n",
       "    </tr>\n",
       "  </thead>\n",
       "  <tbody>\n",
       "    <tr>\n",
       "      <th>4355</th>\n",
       "      <td>Autum</td>\n",
       "      <td>No</td>\n",
       "      <td>Tuesday</td>\n",
       "      <td>Yes</td>\n",
       "      <td>Very Good</td>\n",
       "      <td>0.74</td>\n",
       "      <td>0.58</td>\n",
       "      <td>0.1343</td>\n",
       "      <td>50</td>\n",
       "      <td>227</td>\n",
       "      <td>2011-07-05 09:00:00</td>\n",
       "    </tr>\n",
       "  </tbody>\n",
       "</table>\n",
       "</div>"
      ],
      "text/plain": [
       "     season holiday  weekday workingday weathersit  temp   hum  windspeed  \\\n",
       "4355  Autum      No  Tuesday        Yes  Very Good  0.74  0.58     0.1343   \n",
       "\n",
       "      casual  cnt                fecha  \n",
       "4355      50  227  2011-07-05 09:00:00  "
      ]
     },
     "execution_count": 1031,
     "metadata": {},
     "output_type": "execute_result"
    }
   ],
   "source": [
    "data_alpha.sample()"
   ]
  },
  {
   "cell_type": "code",
   "execution_count": 1032,
   "metadata": {},
   "outputs": [],
   "source": [
    "data_alpha = data_alpha.select_dtypes(np.number)"
   ]
  },
  {
   "cell_type": "code",
   "execution_count": 1033,
   "metadata": {},
   "outputs": [],
   "source": [
    "from sklearn.model_selection import train_test_split"
   ]
  },
  {
   "cell_type": "code",
   "execution_count": 1034,
   "metadata": {},
   "outputs": [],
   "source": [
    "X = data_alpha.drop(columns = \"cnt\")\n",
    "y = data_alpha.cnt"
   ]
  },
  {
   "cell_type": "code",
   "execution_count": 1035,
   "metadata": {},
   "outputs": [],
   "source": [
    "X_train, X_test, y_train, y_test = train_test_split(X, y)"
   ]
  },
  {
   "cell_type": "code",
   "execution_count": 1036,
   "metadata": {},
   "outputs": [
    {
     "data": {
      "text/plain": [
       "(13034, 4)"
      ]
     },
     "execution_count": 1036,
     "metadata": {},
     "output_type": "execute_result"
    }
   ],
   "source": [
    "X_train.shape"
   ]
  },
  {
   "cell_type": "code",
   "execution_count": 1037,
   "metadata": {},
   "outputs": [
    {
     "data": {
      "text/plain": [
       "(4345, 4)"
      ]
     },
     "execution_count": 1037,
     "metadata": {},
     "output_type": "execute_result"
    }
   ],
   "source": [
    "X_test.shape"
   ]
  },
  {
   "cell_type": "code",
   "execution_count": 1038,
   "metadata": {},
   "outputs": [
    {
     "data": {
      "text/plain": [
       "(13034,)"
      ]
     },
     "execution_count": 1038,
     "metadata": {},
     "output_type": "execute_result"
    }
   ],
   "source": [
    "y_train.shape"
   ]
  },
  {
   "cell_type": "code",
   "execution_count": 1039,
   "metadata": {},
   "outputs": [
    {
     "data": {
      "text/plain": [
       "(4345,)"
      ]
     },
     "execution_count": 1039,
     "metadata": {},
     "output_type": "execute_result"
    }
   ],
   "source": [
    "y_test.shape"
   ]
  },
  {
   "cell_type": "code",
   "execution_count": 1040,
   "metadata": {},
   "outputs": [],
   "source": [
    "#APLICAMOS EL MODELO"
   ]
  },
  {
   "cell_type": "code",
   "execution_count": 1041,
   "metadata": {},
   "outputs": [],
   "source": [
    "# manejo bbdd\n",
    "import pandas as pd\n",
    "import numpy as np\n",
    "import datetime\n",
    "\n",
    "#gráficas\n",
    "import matplotlib.pyplot as plt\n",
    "%matplotlib inline\n",
    "import seaborn as sns\n",
    "\n",
    "#estadística\n",
    "import math\n",
    "from scipy.stats import norm\n",
    "from scipy import stats #para box-cox entre otros\n",
    "from scipy.stats import skew\n",
    "\n",
    "#preprocesamiento\n",
    "from sklearn.preprocessing import MinMaxScaler\n",
    "from sklearn.preprocessing import StandardScaler\n",
    "\n",
    "#modelos y evaluación\n",
    "from sklearn.model_selection import train_test_split\n",
    "from sklearn import linear_model\n",
    "import statsmodels.api as sm\n",
    "from statsmodels.formula.api import ols\n",
    "from sklearn.metrics import mean_squared_error,r2_score"
   ]
  },
  {
   "cell_type": "code",
   "execution_count": 1042,
   "metadata": {},
   "outputs": [
    {
     "name": "stdout",
     "output_type": "stream",
     "text": [
      "                            OLS Regression Results                            \n",
      "==============================================================================\n",
      "Dep. Variable:                    cnt   R-squared:                       0.501\n",
      "Model:                            OLS   Adj. R-squared:                  0.501\n",
      "Method:                 Least Squares   F-statistic:                     4369.\n",
      "Date:                Tue, 07 May 2024   Prob (F-statistic):               0.00\n",
      "Time:                        19:55:09   Log-Likelihood:            -1.0899e+05\n",
      "No. Observations:               17379   AIC:                         2.180e+05\n",
      "Df Residuals:                   17374   BIC:                         2.180e+05\n",
      "Df Model:                           4                                         \n",
      "Covariance Type:            nonrobust                                         \n",
      "==============================================================================\n",
      "                 coef    std err          t      P>|t|      [0.025      0.975]\n",
      "------------------------------------------------------------------------------\n",
      "const        110.3949      5.097     21.658      0.000     100.404     120.386\n",
      "temp         113.9940      5.721     19.927      0.000     102.781     125.207\n",
      "hum          -95.7688      5.612    -17.065      0.000    -106.769     -84.769\n",
      "windspeed     17.9151      8.308      2.156      0.031       1.631      34.200\n",
      "casual         2.2165      0.024     93.365      0.000       2.170       2.263\n",
      "==============================================================================\n",
      "Omnibus:                     6879.011   Durbin-Watson:                   0.508\n",
      "Prob(Omnibus):                  0.000   Jarque-Bera (JB):            26817.816\n",
      "Skew:                           1.987   Prob(JB):                         0.00\n",
      "Kurtosis:                       7.610   Cond. No.                         585.\n",
      "==============================================================================\n",
      "\n",
      "Notes:\n",
      "[1] Standard Errors assume that the covariance matrix of the errors is correctly specified.\n"
     ]
    }
   ],
   "source": [
    "X_train_sm = sm.add_constant(X)\n",
    "\n",
    "model = sm.OLS(y,X_train_sm).fit()\n",
    "\n",
    "print(model.summary())"
   ]
  },
  {
   "cell_type": "code",
   "execution_count": 1043,
   "metadata": {},
   "outputs": [
    {
     "name": "stdout",
     "output_type": "stream",
     "text": [
      "R2 value is =  0.5\n"
     ]
    }
   ],
   "source": [
    "lm = linear_model.LinearRegression()\n",
    "model = lm.fit(X_train,y_train)\n",
    "print(\"R2 value is = \",round(lm.score(X_train,y_train),2))"
   ]
  },
  {
   "cell_type": "code",
   "execution_count": null,
   "metadata": {},
   "outputs": [],
   "source": [
    "# El modelo es 'decente' ya que R-Squared es mayor que 0.5\n",
    "# Cualquier p value menor que 0.5 te dice que ese parámetro es estadísticamente significativo, por lo que concluimos que todos lo son\n",
    "# A nivel coeficientes vemos que la temperatura y la humedad una de forma positiva y otra negativa tienen un coef mas relevante vs la\n",
    "# constante lo que nos indica que son especialmente indicativas."
   ]
  },
  {
   "cell_type": "code",
   "execution_count": 1044,
   "metadata": {},
   "outputs": [
    {
     "data": {
      "image/png": "[encoded data removed]",
      "text/plain": [
       "<Figure size 1000x800 with 2 Axes>"
      ]
     },
     "metadata": {},
     "output_type": "display_data"
    }
   ],
   "source": [
    "data_corr = data2.select_dtypes(np.number)\n",
    "corr_matrix=data_corr.corr(method='pearson')\n",
    "fig, ax = plt.subplots(figsize=(10, 8))\n",
    "ax = sns.heatmap(corr_matrix, annot=True)\n",
    "plt.show()"
   ]
  },
  {
   "cell_type": "code",
   "execution_count": 1045,
   "metadata": {},
   "outputs": [],
   "source": [
    "data_beta = data2.drop([\"atemp\", \"registered\"], axis=1)"
   ]
  },
  {
   "cell_type": "code",
   "execution_count": 1046,
   "metadata": {},
   "outputs": [
    {
     "data": {
      "text/html": [
       "<div>\n",
       "<style scoped>\n",
       "    .dataframe tbody tr th:only-of-type {\n",
       "        vertical-align: middle;\n",
       "    }\n",
       "\n",
       "    .dataframe tbody tr th {\n",
       "        vertical-align: top;\n",
       "    }\n",
       "\n",
       "    .dataframe thead th {\n",
       "        text-align: right;\n",
       "    }\n",
       "</style>\n",
       "<table border=\"1\" class=\"dataframe\">\n",
       "  <thead>\n",
       "    <tr style=\"text-align: right;\">\n",
       "      <th></th>\n",
       "      <th>season</th>\n",
       "      <th>holiday</th>\n",
       "      <th>weekday</th>\n",
       "      <th>workingday</th>\n",
       "      <th>weathersit</th>\n",
       "      <th>temp</th>\n",
       "      <th>hum</th>\n",
       "      <th>windspeed</th>\n",
       "      <th>casual</th>\n",
       "      <th>cnt</th>\n",
       "      <th>fecha</th>\n",
       "    </tr>\n",
       "  </thead>\n",
       "  <tbody>\n",
       "    <tr>\n",
       "      <th>7032</th>\n",
       "      <td>Winter</td>\n",
       "      <td>No</td>\n",
       "      <td>Tuesday</td>\n",
       "      <td>Yes</td>\n",
       "      <td>Very Good</td>\n",
       "      <td>0.56</td>\n",
       "      <td>0.37</td>\n",
       "      <td>0.1045</td>\n",
       "      <td>63</td>\n",
       "      <td>234</td>\n",
       "      <td>2011-10-25 15:00:00</td>\n",
       "    </tr>\n",
       "  </tbody>\n",
       "</table>\n",
       "</div>"
      ],
      "text/plain": [
       "      season holiday  weekday workingday weathersit  temp   hum  windspeed  \\\n",
       "7032  Winter      No  Tuesday        Yes  Very Good  0.56  0.37     0.1045   \n",
       "\n",
       "      casual  cnt                fecha  \n",
       "7032      63  234  2011-10-25 15:00:00  "
      ]
     },
     "execution_count": 1046,
     "metadata": {},
     "output_type": "execute_result"
    }
   ],
   "source": [
    "data_beta.sample()"
   ]
  },
  {
   "cell_type": "code",
   "execution_count": 1047,
   "metadata": {},
   "outputs": [],
   "source": [
    "data_beta = data_beta.select_dtypes(np.number)"
   ]
  },
  {
   "cell_type": "code",
   "execution_count": 1048,
   "metadata": {},
   "outputs": [],
   "source": [
    "X = data_beta.drop(columns = \"cnt\")\n",
    "y = data_beta.cnt"
   ]
  },
  {
   "cell_type": "code",
   "execution_count": 1049,
   "metadata": {},
   "outputs": [],
   "source": [
    "X_train, X_test, y_train, y_test = train_test_split(X, y)"
   ]
  },
  {
   "cell_type": "code",
   "execution_count": 1050,
   "metadata": {},
   "outputs": [
    {
     "data": {
      "text/plain": [
       "(12777, 4)"
      ]
     },
     "execution_count": 1050,
     "metadata": {},
     "output_type": "execute_result"
    }
   ],
   "source": [
    "X_train.shape"
   ]
  },
  {
   "cell_type": "code",
   "execution_count": 1051,
   "metadata": {},
   "outputs": [
    {
     "data": {
      "text/plain": [
       "(4260, 4)"
      ]
     },
     "execution_count": 1051,
     "metadata": {},
     "output_type": "execute_result"
    }
   ],
   "source": [
    "X_test.shape"
   ]
  },
  {
   "cell_type": "code",
   "execution_count": 1052,
   "metadata": {},
   "outputs": [
    {
     "data": {
      "text/plain": [
       "(12777,)"
      ]
     },
     "execution_count": 1052,
     "metadata": {},
     "output_type": "execute_result"
    }
   ],
   "source": [
    "y_train.shape"
   ]
  },
  {
   "cell_type": "code",
   "execution_count": 1053,
   "metadata": {},
   "outputs": [
    {
     "data": {
      "text/plain": [
       "(4260,)"
      ]
     },
     "execution_count": 1053,
     "metadata": {},
     "output_type": "execute_result"
    }
   ],
   "source": [
    "y_test.shape"
   ]
  },
  {
   "cell_type": "code",
   "execution_count": 1054,
   "metadata": {},
   "outputs": [
    {
     "name": "stdout",
     "output_type": "stream",
     "text": [
      "                            OLS Regression Results                            \n",
      "==============================================================================\n",
      "Dep. Variable:                    cnt   R-squared:                       0.501\n",
      "Model:                            OLS   Adj. R-squared:                  0.501\n",
      "Method:                 Least Squares   F-statistic:                     4283.\n",
      "Date:                Tue, 07 May 2024   Prob (F-statistic):               0.00\n",
      "Time:                        20:07:55   Log-Likelihood:            -1.0688e+05\n",
      "No. Observations:               17037   AIC:                         2.138e+05\n",
      "Df Residuals:                   17032   BIC:                         2.138e+05\n",
      "Df Model:                           4                                         \n",
      "Covariance Type:            nonrobust                                         \n",
      "==============================================================================\n",
      "                 coef    std err          t      P>|t|      [0.025      0.975]\n",
      "------------------------------------------------------------------------------\n",
      "const        110.3681      5.190     21.265      0.000     100.195     120.541\n",
      "temp         112.2446      5.774     19.439      0.000     100.927     123.563\n",
      "hum          -96.6727      5.693    -16.981      0.000    -107.832     -85.514\n",
      "windspeed     27.9119      9.137      3.055      0.002      10.003      45.821\n",
      "casual         2.2151      0.024     92.329      0.000       2.168       2.262\n",
      "==============================================================================\n",
      "Omnibus:                     6740.718   Durbin-Watson:                   0.518\n",
      "Prob(Omnibus):                  0.000   Jarque-Bera (JB):            26231.263\n",
      "Skew:                           1.986   Prob(JB):                         0.00\n",
      "Kurtosis:                       7.601   Cond. No.                         619.\n",
      "==============================================================================\n",
      "\n",
      "Notes:\n",
      "[1] Standard Errors assume that the covariance matrix of the errors is correctly specified.\n"
     ]
    }
   ],
   "source": [
    "X_train_sm = sm.add_constant(X)\n",
    "\n",
    "model = sm.OLS(y,X_train_sm).fit()\n",
    "\n",
    "print(model.summary())"
   ]
  },
  {
   "cell_type": "code",
   "execution_count": 1055,
   "metadata": {},
   "outputs": [
    {
     "name": "stdout",
     "output_type": "stream",
     "text": [
      "R2 value is =  0.5\n"
     ]
    }
   ],
   "source": [
    "lm = linear_model.LinearRegression()\n",
    "model = lm.fit(X_train,y_train)\n",
    "print(\"R2 value is = \",round(lm.score(X_train,y_train),2))"
   ]
  },
  {
   "cell_type": "code",
   "execution_count": null,
   "metadata": {},
   "outputs": [],
   "source": [
    "# El modelo beta sin outliers es exactamente igual que el alpha\n",
    "# windspeed tiene un pvalor mas bajo en este modelo\n",
    "# A nivel coeficientes vemos que windspeed tambien aumenta su relevancia aunque ya lo és."
   ]
  },
  {
   "cell_type": "code",
   "execution_count": 1058,
   "metadata": {},
   "outputs": [],
   "source": [
    "X_alpha=data_alpha.select_dtypes(include=np.number)"
   ]
  },
  {
   "cell_type": "code",
   "execution_count": 1059,
   "metadata": {},
   "outputs": [
    {
     "data": {
      "text/html": [
       "<div>\n",
       "<style scoped>\n",
       "    .dataframe tbody tr th:only-of-type {\n",
       "        vertical-align: middle;\n",
       "    }\n",
       "\n",
       "    .dataframe tbody tr th {\n",
       "        vertical-align: top;\n",
       "    }\n",
       "\n",
       "    .dataframe thead th {\n",
       "        text-align: right;\n",
       "    }\n",
       "</style>\n",
       "<table border=\"1\" class=\"dataframe\">\n",
       "  <thead>\n",
       "    <tr style=\"text-align: right;\">\n",
       "      <th></th>\n",
       "      <th>temp</th>\n",
       "      <th>hum</th>\n",
       "      <th>windspeed</th>\n",
       "      <th>casual</th>\n",
       "      <th>cnt</th>\n",
       "    </tr>\n",
       "  </thead>\n",
       "  <tbody>\n",
       "    <tr>\n",
       "      <th>16969</th>\n",
       "      <td>0.32</td>\n",
       "      <td>0.61</td>\n",
       "      <td>0.1343</td>\n",
       "      <td>12</td>\n",
       "      <td>221</td>\n",
       "    </tr>\n",
       "  </tbody>\n",
       "</table>\n",
       "</div>"
      ],
      "text/plain": [
       "       temp   hum  windspeed  casual  cnt\n",
       "16969  0.32  0.61     0.1343      12  221"
      ]
     },
     "execution_count": 1059,
     "metadata": {},
     "output_type": "execute_result"
    }
   ],
   "source": [
    "X_alpha.sample()"
   ]
  },
  {
   "cell_type": "code",
   "execution_count": 1060,
   "metadata": {},
   "outputs": [
    {
     "name": "stdout",
     "output_type": "stream",
     "text": [
      "[[0.01472327 0.04969104 0.         0.18404087 0.98155131]\n",
      " [0.00539208 0.01960756 0.         0.19607558 0.9803779 ]\n",
      " [0.00679036 0.0246922  0.         0.15432625 0.987688  ]\n",
      " ...\n",
      " [0.00288011 0.00664641 0.0018189  0.07754142 0.99696116]\n",
      " [0.00416847 0.00897823 0.00215317 0.2084233  0.97798625]\n",
      " [0.00515331 0.01288327 0.00266188 0.23784499 0.97120036]]\n"
     ]
    }
   ],
   "source": [
    "from sklearn.preprocessing import Normalizer #normalizar para que tenga una campana gausiana.\n",
    "transformer=Normalizer().fit(X_alpha) #marco del que vas a estar.\n",
    "X_alpha_normalized=transformer.transform(X_alpha) #transformar los datos para pasarlo por el marco definido.\n",
    "print(X_alpha_normalized)"
   ]
  },
  {
   "cell_type": "code",
   "execution_count": 1061,
   "metadata": {},
   "outputs": [],
   "source": [
    "data_alpha_normalized = pd.DataFrame(X_alpha_normalized)"
   ]
  },
  {
   "cell_type": "code",
   "execution_count": 1063,
   "metadata": {},
   "outputs": [
    {
     "data": {
      "text/html": [
       "<div>\n",
       "<style scoped>\n",
       "    .dataframe tbody tr th:only-of-type {\n",
       "        vertical-align: middle;\n",
       "    }\n",
       "\n",
       "    .dataframe tbody tr th {\n",
       "        vertical-align: top;\n",
       "    }\n",
       "\n",
       "    .dataframe thead th {\n",
       "        text-align: right;\n",
       "    }\n",
       "</style>\n",
       "<table border=\"1\" class=\"dataframe\">\n",
       "  <thead>\n",
       "    <tr style=\"text-align: right;\">\n",
       "      <th></th>\n",
       "      <th>0</th>\n",
       "      <th>1</th>\n",
       "      <th>2</th>\n",
       "      <th>3</th>\n",
       "      <th>4</th>\n",
       "    </tr>\n",
       "  </thead>\n",
       "  <tbody>\n",
       "    <tr>\n",
       "      <th>0</th>\n",
       "      <td>0.014723</td>\n",
       "      <td>0.049691</td>\n",
       "      <td>0.000000</td>\n",
       "      <td>0.184041</td>\n",
       "      <td>0.981551</td>\n",
       "    </tr>\n",
       "    <tr>\n",
       "      <th>1</th>\n",
       "      <td>0.005392</td>\n",
       "      <td>0.019608</td>\n",
       "      <td>0.000000</td>\n",
       "      <td>0.196076</td>\n",
       "      <td>0.980378</td>\n",
       "    </tr>\n",
       "    <tr>\n",
       "      <th>2</th>\n",
       "      <td>0.006790</td>\n",
       "      <td>0.024692</td>\n",
       "      <td>0.000000</td>\n",
       "      <td>0.154326</td>\n",
       "      <td>0.987688</td>\n",
       "    </tr>\n",
       "    <tr>\n",
       "      <th>3</th>\n",
       "      <td>0.017958</td>\n",
       "      <td>0.056117</td>\n",
       "      <td>0.000000</td>\n",
       "      <td>0.224469</td>\n",
       "      <td>0.972698</td>\n",
       "    </tr>\n",
       "    <tr>\n",
       "      <th>4</th>\n",
       "      <td>0.188556</td>\n",
       "      <td>0.589237</td>\n",
       "      <td>0.000000</td>\n",
       "      <td>0.000000</td>\n",
       "      <td>0.785650</td>\n",
       "    </tr>\n",
       "    <tr>\n",
       "      <th>...</th>\n",
       "      <td>...</td>\n",
       "      <td>...</td>\n",
       "      <td>...</td>\n",
       "      <td>...</td>\n",
       "      <td>...</td>\n",
       "    </tr>\n",
       "    <tr>\n",
       "      <th>17374</th>\n",
       "      <td>0.002176</td>\n",
       "      <td>0.005021</td>\n",
       "      <td>0.001374</td>\n",
       "      <td>0.092043</td>\n",
       "      <td>0.995739</td>\n",
       "    </tr>\n",
       "    <tr>\n",
       "      <th>17375</th>\n",
       "      <td>0.002910</td>\n",
       "      <td>0.006714</td>\n",
       "      <td>0.001837</td>\n",
       "      <td>0.089524</td>\n",
       "      <td>0.995956</td>\n",
       "    </tr>\n",
       "    <tr>\n",
       "      <th>17376</th>\n",
       "      <td>0.002880</td>\n",
       "      <td>0.006646</td>\n",
       "      <td>0.001819</td>\n",
       "      <td>0.077541</td>\n",
       "      <td>0.996961</td>\n",
       "    </tr>\n",
       "    <tr>\n",
       "      <th>17377</th>\n",
       "      <td>0.004168</td>\n",
       "      <td>0.008978</td>\n",
       "      <td>0.002153</td>\n",
       "      <td>0.208423</td>\n",
       "      <td>0.977986</td>\n",
       "    </tr>\n",
       "    <tr>\n",
       "      <th>17378</th>\n",
       "      <td>0.005153</td>\n",
       "      <td>0.012883</td>\n",
       "      <td>0.002662</td>\n",
       "      <td>0.237845</td>\n",
       "      <td>0.971200</td>\n",
       "    </tr>\n",
       "  </tbody>\n",
       "</table>\n",
       "<p>17379 rows × 5 columns</p>\n",
       "</div>"
      ],
      "text/plain": [
       "              0         1         2         3         4\n",
       "0      0.014723  0.049691  0.000000  0.184041  0.981551\n",
       "1      0.005392  0.019608  0.000000  0.196076  0.980378\n",
       "2      0.006790  0.024692  0.000000  0.154326  0.987688\n",
       "3      0.017958  0.056117  0.000000  0.224469  0.972698\n",
       "4      0.188556  0.589237  0.000000  0.000000  0.785650\n",
       "...         ...       ...       ...       ...       ...\n",
       "17374  0.002176  0.005021  0.001374  0.092043  0.995739\n",
       "17375  0.002910  0.006714  0.001837  0.089524  0.995956\n",
       "17376  0.002880  0.006646  0.001819  0.077541  0.996961\n",
       "17377  0.004168  0.008978  0.002153  0.208423  0.977986\n",
       "17378  0.005153  0.012883  0.002662  0.237845  0.971200\n",
       "\n",
       "[17379 rows x 5 columns]"
      ]
     },
     "execution_count": 1063,
     "metadata": {},
     "output_type": "execute_result"
    }
   ],
   "source": [
    "data_alpha_normalized"
   ]
  },
  {
   "cell_type": "code",
   "execution_count": 1070,
   "metadata": {},
   "outputs": [],
   "source": [
    "data_alpha_normalized.rename(columns={4: 'cnt'}, inplace=True)"
   ]
  },
  {
   "cell_type": "code",
   "execution_count": 1071,
   "metadata": {},
   "outputs": [
    {
     "data": {
      "text/html": [
       "<div>\n",
       "<style scoped>\n",
       "    .dataframe tbody tr th:only-of-type {\n",
       "        vertical-align: middle;\n",
       "    }\n",
       "\n",
       "    .dataframe tbody tr th {\n",
       "        vertical-align: top;\n",
       "    }\n",
       "\n",
       "    .dataframe thead th {\n",
       "        text-align: right;\n",
       "    }\n",
       "</style>\n",
       "<table border=\"1\" class=\"dataframe\">\n",
       "  <thead>\n",
       "    <tr style=\"text-align: right;\">\n",
       "      <th></th>\n",
       "      <th>0</th>\n",
       "      <th>1</th>\n",
       "      <th>2</th>\n",
       "      <th>3</th>\n",
       "      <th>cnt</th>\n",
       "    </tr>\n",
       "  </thead>\n",
       "  <tbody>\n",
       "    <tr>\n",
       "      <th>0</th>\n",
       "      <td>0.014723</td>\n",
       "      <td>0.049691</td>\n",
       "      <td>0.000000</td>\n",
       "      <td>0.184041</td>\n",
       "      <td>0.981551</td>\n",
       "    </tr>\n",
       "    <tr>\n",
       "      <th>1</th>\n",
       "      <td>0.005392</td>\n",
       "      <td>0.019608</td>\n",
       "      <td>0.000000</td>\n",
       "      <td>0.196076</td>\n",
       "      <td>0.980378</td>\n",
       "    </tr>\n",
       "    <tr>\n",
       "      <th>2</th>\n",
       "      <td>0.006790</td>\n",
       "      <td>0.024692</td>\n",
       "      <td>0.000000</td>\n",
       "      <td>0.154326</td>\n",
       "      <td>0.987688</td>\n",
       "    </tr>\n",
       "    <tr>\n",
       "      <th>3</th>\n",
       "      <td>0.017958</td>\n",
       "      <td>0.056117</td>\n",
       "      <td>0.000000</td>\n",
       "      <td>0.224469</td>\n",
       "      <td>0.972698</td>\n",
       "    </tr>\n",
       "    <tr>\n",
       "      <th>4</th>\n",
       "      <td>0.188556</td>\n",
       "      <td>0.589237</td>\n",
       "      <td>0.000000</td>\n",
       "      <td>0.000000</td>\n",
       "      <td>0.785650</td>\n",
       "    </tr>\n",
       "    <tr>\n",
       "      <th>...</th>\n",
       "      <td>...</td>\n",
       "      <td>...</td>\n",
       "      <td>...</td>\n",
       "      <td>...</td>\n",
       "      <td>...</td>\n",
       "    </tr>\n",
       "    <tr>\n",
       "      <th>17374</th>\n",
       "      <td>0.002176</td>\n",
       "      <td>0.005021</td>\n",
       "      <td>0.001374</td>\n",
       "      <td>0.092043</td>\n",
       "      <td>0.995739</td>\n",
       "    </tr>\n",
       "    <tr>\n",
       "      <th>17375</th>\n",
       "      <td>0.002910</td>\n",
       "      <td>0.006714</td>\n",
       "      <td>0.001837</td>\n",
       "      <td>0.089524</td>\n",
       "      <td>0.995956</td>\n",
       "    </tr>\n",
       "    <tr>\n",
       "      <th>17376</th>\n",
       "      <td>0.002880</td>\n",
       "      <td>0.006646</td>\n",
       "      <td>0.001819</td>\n",
       "      <td>0.077541</td>\n",
       "      <td>0.996961</td>\n",
       "    </tr>\n",
       "    <tr>\n",
       "      <th>17377</th>\n",
       "      <td>0.004168</td>\n",
       "      <td>0.008978</td>\n",
       "      <td>0.002153</td>\n",
       "      <td>0.208423</td>\n",
       "      <td>0.977986</td>\n",
       "    </tr>\n",
       "    <tr>\n",
       "      <th>17378</th>\n",
       "      <td>0.005153</td>\n",
       "      <td>0.012883</td>\n",
       "      <td>0.002662</td>\n",
       "      <td>0.237845</td>\n",
       "      <td>0.971200</td>\n",
       "    </tr>\n",
       "  </tbody>\n",
       "</table>\n",
       "<p>17379 rows × 5 columns</p>\n",
       "</div>"
      ],
      "text/plain": [
       "              0         1         2         3       cnt\n",
       "0      0.014723  0.049691  0.000000  0.184041  0.981551\n",
       "1      0.005392  0.019608  0.000000  0.196076  0.980378\n",
       "2      0.006790  0.024692  0.000000  0.154326  0.987688\n",
       "3      0.017958  0.056117  0.000000  0.224469  0.972698\n",
       "4      0.188556  0.589237  0.000000  0.000000  0.785650\n",
       "...         ...       ...       ...       ...       ...\n",
       "17374  0.002176  0.005021  0.001374  0.092043  0.995739\n",
       "17375  0.002910  0.006714  0.001837  0.089524  0.995956\n",
       "17376  0.002880  0.006646  0.001819  0.077541  0.996961\n",
       "17377  0.004168  0.008978  0.002153  0.208423  0.977986\n",
       "17378  0.005153  0.012883  0.002662  0.237845  0.971200\n",
       "\n",
       "[17379 rows x 5 columns]"
      ]
     },
     "execution_count": 1071,
     "metadata": {},
     "output_type": "execute_result"
    }
   ],
   "source": [
    "data_alpha_normalized"
   ]
  },
  {
   "cell_type": "code",
   "execution_count": 1072,
   "metadata": {},
   "outputs": [],
   "source": [
    "X = data_alpha_normalized.drop(columns = \"cnt\")\n",
    "y = data_alpha_normalized.cnt"
   ]
  },
  {
   "cell_type": "code",
   "execution_count": 1073,
   "metadata": {},
   "outputs": [],
   "source": [
    "X_train, X_test, y_train, y_test = train_test_split(X, y)"
   ]
  },
  {
   "cell_type": "code",
   "execution_count": 1074,
   "metadata": {},
   "outputs": [
    {
     "data": {
      "text/plain": [
       "(13034, 4)"
      ]
     },
     "execution_count": 1074,
     "metadata": {},
     "output_type": "execute_result"
    }
   ],
   "source": [
    "X_train.shape"
   ]
  },
  {
   "cell_type": "code",
   "execution_count": 1075,
   "metadata": {},
   "outputs": [
    {
     "data": {
      "text/plain": [
       "(4345, 4)"
      ]
     },
     "execution_count": 1075,
     "metadata": {},
     "output_type": "execute_result"
    }
   ],
   "source": [
    "X_test.shape"
   ]
  },
  {
   "cell_type": "code",
   "execution_count": 1076,
   "metadata": {},
   "outputs": [
    {
     "data": {
      "text/plain": [
       "(13034,)"
      ]
     },
     "execution_count": 1076,
     "metadata": {},
     "output_type": "execute_result"
    }
   ],
   "source": [
    "y_train.shape"
   ]
  },
  {
   "cell_type": "code",
   "execution_count": 1077,
   "metadata": {},
   "outputs": [
    {
     "data": {
      "text/plain": [
       "(4345,)"
      ]
     },
     "execution_count": 1077,
     "metadata": {},
     "output_type": "execute_result"
    }
   ],
   "source": [
    "y_test.shape"
   ]
  },
  {
   "cell_type": "code",
   "execution_count": 1078,
   "metadata": {},
   "outputs": [
    {
     "name": "stdout",
     "output_type": "stream",
     "text": [
      "                            OLS Regression Results                            \n",
      "==============================================================================\n",
      "Dep. Variable:                    cnt   R-squared:                       0.863\n",
      "Model:                            OLS   Adj. R-squared:                  0.863\n",
      "Method:                 Least Squares   F-statistic:                 2.745e+04\n",
      "Date:                Tue, 07 May 2024   Prob (F-statistic):               0.00\n",
      "Time:                        20:25:54   Log-Likelihood:                 50311.\n",
      "No. Observations:               17379   AIC:                        -1.006e+05\n",
      "Df Residuals:                   17374   BIC:                        -1.006e+05\n",
      "Df Model:                           4                                         \n",
      "Covariance Type:            nonrobust                                         \n",
      "==============================================================================\n",
      "                 coef    std err          t      P>|t|      [0.025      0.975]\n",
      "------------------------------------------------------------------------------\n",
      "const          1.0205      0.000   5623.435      0.000       1.020       1.021\n",
      "0              0.0444      0.006      6.947      0.000       0.032       0.057\n",
      "1             -0.3124      0.003    -93.612      0.000      -0.319      -0.306\n",
      "2             -0.1876      0.007    -28.462      0.000      -0.201      -0.175\n",
      "3             -0.2248      0.001   -266.712      0.000      -0.226      -0.223\n",
      "==============================================================================\n",
      "Omnibus:                    11617.730   Durbin-Watson:                   1.365\n",
      "Prob(Omnibus):                  0.000   Jarque-Bera (JB):           511959.633\n",
      "Skew:                          -2.648   Prob(JB):                         0.00\n",
      "Kurtosis:                      29.057   Cond. No.                         69.9\n",
      "==============================================================================\n",
      "\n",
      "Notes:\n",
      "[1] Standard Errors assume that the covariance matrix of the errors is correctly specified.\n"
     ]
    }
   ],
   "source": [
    "X_train_sm = sm.add_constant(X)\n",
    "\n",
    "model = sm.OLS(y,X_train_sm).fit()\n",
    "\n",
    "print(model.summary())"
   ]
  },
  {
   "cell_type": "code",
   "execution_count": 1079,
   "metadata": {},
   "outputs": [
    {
     "name": "stdout",
     "output_type": "stream",
     "text": [
      "R2 value is =  0.86\n"
     ]
    }
   ],
   "source": [
    "lm = linear_model.LinearRegression()\n",
    "model = lm.fit(X_train,y_train)\n",
    "print(\"R2 value is = \",round(lm.score(X_train,y_train),2))"
   ]
  },
  {
   "cell_type": "code",
   "execution_count": null,
   "metadata": {},
   "outputs": [],
   "source": [
    "#el r2 de este modelo alpha normalizado nos da un r2 muy elevado de 0.8 lo que nos dice que el modelo esta muy bien.\n",
    "#todos los pvalores de las variables son iguales a 0 lo que nos dice que normalizando windspeed se vuelve más baja incluso que en beta y alpha"
   ]
  },
  {
   "cell_type": "code",
   "execution_count": 1080,
   "metadata": {},
   "outputs": [
    {
     "name": "stdout",
     "output_type": "stream",
     "text": [
      "[[-1.33464759  0.9473725  -1.55388851 -0.66275506 -0.95633924]\n",
      " [-1.4385164   0.89553869 -1.55388851 -0.56134262 -0.82402209]\n",
      " [-1.4385164   0.89553869 -1.55388851 -0.62219008 -0.8681278 ]\n",
      " ...\n",
      " [-1.23077877 -0.14113744 -0.21169121 -0.58162511 -0.54836135]\n",
      " [-1.23077877 -0.34847267 -0.45609864 -0.45993017 -0.70824458]\n",
      " [-1.23077877  0.11803159 -0.45609864 -0.48021266 -0.77440315]]\n"
     ]
    }
   ],
   "source": [
    "from sklearn.preprocessing import StandardScaler #estandarizar, definirlo en un rango concreto.\n",
    "optimusprime=StandardScaler().fit(X_alpha)\n",
    "X_alpha_standardized=optimusprime.transform(X_alpha)\n",
    "print(X_alpha_standardized)"
   ]
  },
  {
   "cell_type": "code",
   "execution_count": 1081,
   "metadata": {},
   "outputs": [],
   "source": [
    "data_alpha_standardized = pd.DataFrame(X_alpha_standardized)"
   ]
  },
  {
   "cell_type": "code",
   "execution_count": 1082,
   "metadata": {},
   "outputs": [
    {
     "data": {
      "text/html": [
       "<div>\n",
       "<style scoped>\n",
       "    .dataframe tbody tr th:only-of-type {\n",
       "        vertical-align: middle;\n",
       "    }\n",
       "\n",
       "    .dataframe tbody tr th {\n",
       "        vertical-align: top;\n",
       "    }\n",
       "\n",
       "    .dataframe thead th {\n",
       "        text-align: right;\n",
       "    }\n",
       "</style>\n",
       "<table border=\"1\" class=\"dataframe\">\n",
       "  <thead>\n",
       "    <tr style=\"text-align: right;\">\n",
       "      <th></th>\n",
       "      <th>0</th>\n",
       "      <th>1</th>\n",
       "      <th>2</th>\n",
       "      <th>3</th>\n",
       "      <th>4</th>\n",
       "    </tr>\n",
       "  </thead>\n",
       "  <tbody>\n",
       "    <tr>\n",
       "      <th>0</th>\n",
       "      <td>-1.334648</td>\n",
       "      <td>0.947372</td>\n",
       "      <td>-1.553889</td>\n",
       "      <td>-0.662755</td>\n",
       "      <td>-0.956339</td>\n",
       "    </tr>\n",
       "    <tr>\n",
       "      <th>1</th>\n",
       "      <td>-1.438516</td>\n",
       "      <td>0.895539</td>\n",
       "      <td>-1.553889</td>\n",
       "      <td>-0.561343</td>\n",
       "      <td>-0.824022</td>\n",
       "    </tr>\n",
       "    <tr>\n",
       "      <th>2</th>\n",
       "      <td>-1.438516</td>\n",
       "      <td>0.895539</td>\n",
       "      <td>-1.553889</td>\n",
       "      <td>-0.622190</td>\n",
       "      <td>-0.868128</td>\n",
       "    </tr>\n",
       "    <tr>\n",
       "      <th>3</th>\n",
       "      <td>-1.334648</td>\n",
       "      <td>0.636370</td>\n",
       "      <td>-1.553889</td>\n",
       "      <td>-0.662755</td>\n",
       "      <td>-0.972879</td>\n",
       "    </tr>\n",
       "    <tr>\n",
       "      <th>4</th>\n",
       "      <td>-1.334648</td>\n",
       "      <td>0.636370</td>\n",
       "      <td>-1.553889</td>\n",
       "      <td>-0.723603</td>\n",
       "      <td>-1.039037</td>\n",
       "    </tr>\n",
       "    <tr>\n",
       "      <th>...</th>\n",
       "      <td>...</td>\n",
       "      <td>...</td>\n",
       "      <td>...</td>\n",
       "      <td>...</td>\n",
       "      <td>...</td>\n",
       "    </tr>\n",
       "    <tr>\n",
       "      <th>17374</th>\n",
       "      <td>-1.230779</td>\n",
       "      <td>-0.141137</td>\n",
       "      <td>-0.211691</td>\n",
       "      <td>-0.500495</td>\n",
       "      <td>-0.388478</td>\n",
       "    </tr>\n",
       "    <tr>\n",
       "      <th>17375</th>\n",
       "      <td>-1.230779</td>\n",
       "      <td>-0.141137</td>\n",
       "      <td>-0.211691</td>\n",
       "      <td>-0.561343</td>\n",
       "      <td>-0.553875</td>\n",
       "    </tr>\n",
       "    <tr>\n",
       "      <th>17376</th>\n",
       "      <td>-1.230779</td>\n",
       "      <td>-0.141137</td>\n",
       "      <td>-0.211691</td>\n",
       "      <td>-0.581625</td>\n",
       "      <td>-0.548361</td>\n",
       "    </tr>\n",
       "    <tr>\n",
       "      <th>17377</th>\n",
       "      <td>-1.230779</td>\n",
       "      <td>-0.348473</td>\n",
       "      <td>-0.456099</td>\n",
       "      <td>-0.459930</td>\n",
       "      <td>-0.708245</td>\n",
       "    </tr>\n",
       "    <tr>\n",
       "      <th>17378</th>\n",
       "      <td>-1.230779</td>\n",
       "      <td>0.118032</td>\n",
       "      <td>-0.456099</td>\n",
       "      <td>-0.480213</td>\n",
       "      <td>-0.774403</td>\n",
       "    </tr>\n",
       "  </tbody>\n",
       "</table>\n",
       "<p>17379 rows × 5 columns</p>\n",
       "</div>"
      ],
      "text/plain": [
       "              0         1         2         3         4\n",
       "0     -1.334648  0.947372 -1.553889 -0.662755 -0.956339\n",
       "1     -1.438516  0.895539 -1.553889 -0.561343 -0.824022\n",
       "2     -1.438516  0.895539 -1.553889 -0.622190 -0.868128\n",
       "3     -1.334648  0.636370 -1.553889 -0.662755 -0.972879\n",
       "4     -1.334648  0.636370 -1.553889 -0.723603 -1.039037\n",
       "...         ...       ...       ...       ...       ...\n",
       "17374 -1.230779 -0.141137 -0.211691 -0.500495 -0.388478\n",
       "17375 -1.230779 -0.141137 -0.211691 -0.561343 -0.553875\n",
       "17376 -1.230779 -0.141137 -0.211691 -0.581625 -0.548361\n",
       "17377 -1.230779 -0.348473 -0.456099 -0.459930 -0.708245\n",
       "17378 -1.230779  0.118032 -0.456099 -0.480213 -0.774403\n",
       "\n",
       "[17379 rows x 5 columns]"
      ]
     },
     "execution_count": 1082,
     "metadata": {},
     "output_type": "execute_result"
    }
   ],
   "source": [
    "data_alpha_standardized"
   ]
  },
  {
   "cell_type": "code",
   "execution_count": 1083,
   "metadata": {},
   "outputs": [],
   "source": [
    "data_alpha_standardized.rename(columns={4: 'cnt'}, inplace=True)"
   ]
  },
  {
   "cell_type": "code",
   "execution_count": 1084,
   "metadata": {},
   "outputs": [
    {
     "data": {
      "text/html": [
       "<div>\n",
       "<style scoped>\n",
       "    .dataframe tbody tr th:only-of-type {\n",
       "        vertical-align: middle;\n",
       "    }\n",
       "\n",
       "    .dataframe tbody tr th {\n",
       "        vertical-align: top;\n",
       "    }\n",
       "\n",
       "    .dataframe thead th {\n",
       "        text-align: right;\n",
       "    }\n",
       "</style>\n",
       "<table border=\"1\" class=\"dataframe\">\n",
       "  <thead>\n",
       "    <tr style=\"text-align: right;\">\n",
       "      <th></th>\n",
       "      <th>0</th>\n",
       "      <th>1</th>\n",
       "      <th>2</th>\n",
       "      <th>3</th>\n",
       "      <th>cnt</th>\n",
       "    </tr>\n",
       "  </thead>\n",
       "  <tbody>\n",
       "    <tr>\n",
       "      <th>0</th>\n",
       "      <td>-1.334648</td>\n",
       "      <td>0.947372</td>\n",
       "      <td>-1.553889</td>\n",
       "      <td>-0.662755</td>\n",
       "      <td>-0.956339</td>\n",
       "    </tr>\n",
       "    <tr>\n",
       "      <th>1</th>\n",
       "      <td>-1.438516</td>\n",
       "      <td>0.895539</td>\n",
       "      <td>-1.553889</td>\n",
       "      <td>-0.561343</td>\n",
       "      <td>-0.824022</td>\n",
       "    </tr>\n",
       "    <tr>\n",
       "      <th>2</th>\n",
       "      <td>-1.438516</td>\n",
       "      <td>0.895539</td>\n",
       "      <td>-1.553889</td>\n",
       "      <td>-0.622190</td>\n",
       "      <td>-0.868128</td>\n",
       "    </tr>\n",
       "    <tr>\n",
       "      <th>3</th>\n",
       "      <td>-1.334648</td>\n",
       "      <td>0.636370</td>\n",
       "      <td>-1.553889</td>\n",
       "      <td>-0.662755</td>\n",
       "      <td>-0.972879</td>\n",
       "    </tr>\n",
       "    <tr>\n",
       "      <th>4</th>\n",
       "      <td>-1.334648</td>\n",
       "      <td>0.636370</td>\n",
       "      <td>-1.553889</td>\n",
       "      <td>-0.723603</td>\n",
       "      <td>-1.039037</td>\n",
       "    </tr>\n",
       "    <tr>\n",
       "      <th>...</th>\n",
       "      <td>...</td>\n",
       "      <td>...</td>\n",
       "      <td>...</td>\n",
       "      <td>...</td>\n",
       "      <td>...</td>\n",
       "    </tr>\n",
       "    <tr>\n",
       "      <th>17374</th>\n",
       "      <td>-1.230779</td>\n",
       "      <td>-0.141137</td>\n",
       "      <td>-0.211691</td>\n",
       "      <td>-0.500495</td>\n",
       "      <td>-0.388478</td>\n",
       "    </tr>\n",
       "    <tr>\n",
       "      <th>17375</th>\n",
       "      <td>-1.230779</td>\n",
       "      <td>-0.141137</td>\n",
       "      <td>-0.211691</td>\n",
       "      <td>-0.561343</td>\n",
       "      <td>-0.553875</td>\n",
       "    </tr>\n",
       "    <tr>\n",
       "      <th>17376</th>\n",
       "      <td>-1.230779</td>\n",
       "      <td>-0.141137</td>\n",
       "      <td>-0.211691</td>\n",
       "      <td>-0.581625</td>\n",
       "      <td>-0.548361</td>\n",
       "    </tr>\n",
       "    <tr>\n",
       "      <th>17377</th>\n",
       "      <td>-1.230779</td>\n",
       "      <td>-0.348473</td>\n",
       "      <td>-0.456099</td>\n",
       "      <td>-0.459930</td>\n",
       "      <td>-0.708245</td>\n",
       "    </tr>\n",
       "    <tr>\n",
       "      <th>17378</th>\n",
       "      <td>-1.230779</td>\n",
       "      <td>0.118032</td>\n",
       "      <td>-0.456099</td>\n",
       "      <td>-0.480213</td>\n",
       "      <td>-0.774403</td>\n",
       "    </tr>\n",
       "  </tbody>\n",
       "</table>\n",
       "<p>17379 rows × 5 columns</p>\n",
       "</div>"
      ],
      "text/plain": [
       "              0         1         2         3       cnt\n",
       "0     -1.334648  0.947372 -1.553889 -0.662755 -0.956339\n",
       "1     -1.438516  0.895539 -1.553889 -0.561343 -0.824022\n",
       "2     -1.438516  0.895539 -1.553889 -0.622190 -0.868128\n",
       "3     -1.334648  0.636370 -1.553889 -0.662755 -0.972879\n",
       "4     -1.334648  0.636370 -1.553889 -0.723603 -1.039037\n",
       "...         ...       ...       ...       ...       ...\n",
       "17374 -1.230779 -0.141137 -0.211691 -0.500495 -0.388478\n",
       "17375 -1.230779 -0.141137 -0.211691 -0.561343 -0.553875\n",
       "17376 -1.230779 -0.141137 -0.211691 -0.581625 -0.548361\n",
       "17377 -1.230779 -0.348473 -0.456099 -0.459930 -0.708245\n",
       "17378 -1.230779  0.118032 -0.456099 -0.480213 -0.774403\n",
       "\n",
       "[17379 rows x 5 columns]"
      ]
     },
     "execution_count": 1084,
     "metadata": {},
     "output_type": "execute_result"
    }
   ],
   "source": [
    "data_alpha_standardized"
   ]
  },
  {
   "cell_type": "code",
   "execution_count": 1085,
   "metadata": {},
   "outputs": [],
   "source": [
    "X = data_alpha_standardized.drop(columns = \"cnt\")\n",
    "y = data_alpha_standardized.cnt"
   ]
  },
  {
   "cell_type": "code",
   "execution_count": 1086,
   "metadata": {},
   "outputs": [],
   "source": [
    "X_train, X_test, y_train, y_test = train_test_split(X, y)"
   ]
  },
  {
   "cell_type": "code",
   "execution_count": 1087,
   "metadata": {},
   "outputs": [
    {
     "data": {
      "text/plain": [
       "(13034, 4)"
      ]
     },
     "execution_count": 1087,
     "metadata": {},
     "output_type": "execute_result"
    }
   ],
   "source": [
    "X_train.shape"
   ]
  },
  {
   "cell_type": "code",
   "execution_count": 1088,
   "metadata": {},
   "outputs": [
    {
     "data": {
      "text/plain": [
       "(4345, 4)"
      ]
     },
     "execution_count": 1088,
     "metadata": {},
     "output_type": "execute_result"
    }
   ],
   "source": [
    "X_test.shape"
   ]
  },
  {
   "cell_type": "code",
   "execution_count": 1089,
   "metadata": {},
   "outputs": [
    {
     "data": {
      "text/plain": [
       "(13034,)"
      ]
     },
     "execution_count": 1089,
     "metadata": {},
     "output_type": "execute_result"
    }
   ],
   "source": [
    "y_train.shape"
   ]
  },
  {
   "cell_type": "code",
   "execution_count": 1090,
   "metadata": {},
   "outputs": [
    {
     "data": {
      "text/plain": [
       "(4345,)"
      ]
     },
     "execution_count": 1090,
     "metadata": {},
     "output_type": "execute_result"
    }
   ],
   "source": [
    "y_test.shape"
   ]
  },
  {
   "cell_type": "code",
   "execution_count": 1091,
   "metadata": {},
   "outputs": [
    {
     "name": "stdout",
     "output_type": "stream",
     "text": [
      "                            OLS Regression Results                            \n",
      "==============================================================================\n",
      "Dep. Variable:                    cnt   R-squared:                       0.501\n",
      "Model:                            OLS   Adj. R-squared:                  0.501\n",
      "Method:                 Least Squares   F-statistic:                     4369.\n",
      "Date:                Tue, 07 May 2024   Prob (F-statistic):               0.00\n",
      "Time:                        20:43:50   Log-Likelihood:                -18611.\n",
      "No. Observations:               17379   AIC:                         3.723e+04\n",
      "Df Residuals:                   17374   BIC:                         3.727e+04\n",
      "Df Model:                           4                                         \n",
      "Covariance Type:            nonrobust                                         \n",
      "==============================================================================\n",
      "                 coef    std err          t      P>|t|      [0.025      0.975]\n",
      "------------------------------------------------------------------------------\n",
      "const      -9.263e-17      0.005  -1.73e-14      1.000      -0.010       0.010\n",
      "0              0.1210      0.006     19.927      0.000       0.109       0.133\n",
      "1             -0.1019      0.006    -17.065      0.000      -0.114      -0.090\n",
      "2              0.0121      0.006      2.156      0.031       0.001       0.023\n",
      "3              0.6025      0.006     93.365      0.000       0.590       0.615\n",
      "==============================================================================\n",
      "Omnibus:                     6879.011   Durbin-Watson:                   0.508\n",
      "Prob(Omnibus):                  0.000   Jarque-Bera (JB):            26817.816\n",
      "Skew:                           1.987   Prob(JB):                         0.00\n",
      "Kurtosis:                       7.610   Cond. No.                         1.92\n",
      "==============================================================================\n",
      "\n",
      "Notes:\n",
      "[1] Standard Errors assume that the covariance matrix of the errors is correctly specified.\n"
     ]
    }
   ],
   "source": [
    "X_train_sm = sm.add_constant(X)\n",
    "\n",
    "model = sm.OLS(y,X_train_sm).fit()\n",
    "\n",
    "print(model.summary())"
   ]
  },
  {
   "cell_type": "code",
   "execution_count": null,
   "metadata": {},
   "outputs": [],
   "source": [
    "# el modelo alpha estandarizado no muestra los mismos resultados de r2 que ni de pvalor que el modelo normalizado."
   ]
  }
 ],
 "metadata": {
  "kernelspec": {
   "display_name": "Ironhack",
   "language": "python",
   "name": "python3"
  },
  "language_info": {
   "codemirror_mode": {
    "name": "ipython",
    "version": 3
   },
   "file_extension": ".py",
   "mimetype": "text/x-python",
   "name": "python",
   "nbconvert_exporter": "python",
   "pygments_lexer": "ipython3",
   "version": "3.11.7"
  }
 },
 "nbformat": 4,
 "nbformat_minor": 2
}
